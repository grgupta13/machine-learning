{
  "cells": [
    {
      "cell_type": "markdown",
      "metadata": {
        "id": "view-in-github",
        "colab_type": "text"
      },
      "source": [
        "<a href=\"https://colab.research.google.com/github/grgupta13/machine-learning/blob/main/Netflix.ipynb\" target=\"_parent\"><img src=\"https://colab.research.google.com/assets/colab-badge.svg\" alt=\"Open In Colab\"/></a>"
      ]
    },
    {
      "cell_type": "code",
      "execution_count": null,
      "metadata": {
        "id": "g6dsV9k2Liny"
      },
      "outputs": [],
      "source": [
        "from google.colab import drive\n",
        "drive.mount('/content/drive')"
      ]
    },
    {
      "cell_type": "code",
      "execution_count": null,
      "metadata": {
        "id": "am1yxDZgNL1F"
      },
      "outputs": [],
      "source": [
        "import pandas as pd\n",
        "import numpy as np\n",
        "import seaborn as sns\n",
        "import matplotlib.pyplot as plt\n",
        "%matplotlib inline"
      ]
    },
    {
      "cell_type": "code",
      "execution_count": null,
      "metadata": {
        "id": "-lwgyHLYNBlS"
      },
      "outputs": [],
      "source": [
        "df = pd.read_csv(\"/content/drive/MyDrive/netflix/combined_data_1.txt.zip\", header = None, names = ['Cust_Id', 'Rating'], usecols = [0,1])\n",
        "#not using time, only using two columns\n",
        "df.head()"
      ]
    },
    {
      "cell_type": "code",
      "execution_count": null,
      "metadata": {
        "id": "Lu2lPcw8NVaq"
      },
      "outputs": [],
      "source": [
        "df.dtypes"
      ]
    },
    {
      "cell_type": "code",
      "execution_count": null,
      "metadata": {
        "id": "dhiJeFd1QiQr"
      },
      "outputs": [],
      "source": [
        "df['Rating'] = df['Rating'].astype(float)# to change the data type, although it is already in float--not needed, just to show how to change data type"
      ]
    },
    {
      "cell_type": "code",
      "execution_count": null,
      "metadata": {
        "id": "Tgtvg1GCOUJ7"
      },
      "outputs": [],
      "source": [
        "df.shape"
      ]
    },
    {
      "cell_type": "code",
      "execution_count": null,
      "metadata": {
        "id": "p8WnzxbZOeJh"
      },
      "outputs": [],
      "source": [
        "stars = df.groupby('Rating')['Rating'].agg(['count'])\n",
        "stars.head()\n",
        "# movies are rated by more than one customer, as number of movies are 4499"
      ]
    },
    {
      "cell_type": "code",
      "source": [
        "# calculating the number of movies, as movie id column contains nan values, so it will give the movie count\n",
        "movie_count = df.isna().sum().sum()\n",
        "movie_count\n"
      ],
      "metadata": {
        "id": "S7CvvuNSTeRY"
      },
      "execution_count": null,
      "outputs": []
    },
    {
      "cell_type": "code",
      "source": [
        "# to count the unique customer we have\n",
        "# Cust_Id column contains the movie id(1:,...), so to count the unique customer we will subtract these movie count\n",
        "cust_count = df['Cust_Id'].nunique() - df['Rating'].isna().sum() # 475257 - 4499\n",
        "cust_count"
      ],
      "metadata": {
        "id": "AwZF_Jb-UZs5"
      },
      "execution_count": null,
      "outputs": []
    },
    {
      "cell_type": "code",
      "source": [
        "# total number of rating given by customer, ignore nan values\n",
        "rating_count = df['Cust_Id'].count() - movie_count "
      ],
      "metadata": {
        "id": "_vUlQrffVqvR"
      },
      "execution_count": null,
      "outputs": []
    },
    {
      "cell_type": "code",
      "source": [
        "# plot bar graph for ratings\n",
        "ax = stars.plot(kind='barh', legend = False, figsize = (15,10))\n",
        "plt.title(f\"total movies:{movie_count}, total customers: {cust_count}, total ratings given: {rating_count}\")\n",
        "plt.grid(True)"
      ],
      "metadata": {
        "id": "aKPWJ98_IQMY"
      },
      "execution_count": null,
      "outputs": []
    },
    {
      "cell_type": "code",
      "source": [
        "# we want to take out the movie id from cust_id column, if cust_id column contains the movie id then its rating is NaN\n",
        "# we want to seperate out those cust_id which has rating NaN\n",
        "null_ = df.isna()['Rating'] # this will contain the dataframe which has rating column values in True or False\n",
        "null_ = null_[null_ == True]#extracting all ratings which are True, i.e. null values\n",
        "# resetting the index and making it a new column\n",
        "null_ = null_.reset_index()\n",
        "null_.head()"
      ],
      "metadata": {
        "id": "c8RK0iH_GBOC"
      },
      "execution_count": null,
      "outputs": []
    },
    {
      "cell_type": "code",
      "source": [
        "movie_ids =df.iloc[null_[\"index\"]][\"Cust_Id\"].str.replace(\":\",'') # now by selecting the Cust_Id, we can get the movie id\n",
        "movie_ids.reset_index(drop=True, inplace = True) # reset and drop index\n",
        "movie_ids.head()"
      ],
      "metadata": {
        "id": "w82MQoAIJqqK"
      },
      "execution_count": null,
      "outputs": []
    },
    {
      "cell_type": "code",
      "source": [
        "# we want to add movie_id column into df\n",
        "# here from null_ dataframe, we see that index of df 0 to 547 are for the movie 1, similarly index from 548 to 693 are for movie2 and so on\n",
        "# we are interested in getting the range of the indices for df from null_ dataframe \"index\" column\n",
        "# we can do it by selecting the index from 0th row and 1st row in tuple or zip them, similarly from 1st row and 2nd row in tuple\n",
        "# (null_[\"index\"][1:], null_[\"index\"][:-1])\n",
        "movie_np=[]\n",
        "movie_id=1\n",
        "for i, j in zip(null_['index'][1:], null_['index'][:-1]):\n",
        "    temp=np.full((1, i-j), movie_id)\n",
        "    movie_np=np.append(movie_np, temp)\n",
        "    movie_id+=1\n",
        "\n",
        "# the above loop does not handle the last value \n",
        "#account for last record and corresponding length\n",
        "#numpy approach\n",
        "temp = np.full((1, len(df) - null_[\"index\"].iloc[-1] ), movie_id)\n",
        "movie_np = np.append(movie_np, temp)\n",
        "print(f\"movie_np:{movie_np}\")\n",
        "print(f\"length of movie_np: {len(movie_np)}\")"
      ],
      "metadata": {
        "id": "n3dOYkW8KxmF"
      },
      "execution_count": null,
      "outputs": []
    },
    {
      "cell_type": "code",
      "source": [],
      "metadata": {
        "id": "nLj0ELTb-HB0"
      },
      "execution_count": null,
      "outputs": []
    },
    {
      "cell_type": "code",
      "source": [
        "i = 548\n",
        "j = 0 \n",
        "movie_id = 1\n",
        "temp = np.full((1, i-j-1), movie_id)\n",
        "print(temp)\n",
        "print(temp.shape)"
      ],
      "metadata": {
        "id": "KcqBF1WKZSen"
      },
      "execution_count": null,
      "outputs": []
    },
    {
      "cell_type": "code",
      "source": [
        "# since the movie id is related to index column of df, therefore we will first assign the movie_np to df as new column\n",
        "# then we can drop null values\n",
        "df[\"movie_id\"] = movie_np\n",
        "len_b4_drop = len(df)\n",
        "df.dropna(inplace = True)\n",
        "print(f\"df length after dropping null values:{ len(df)}\")"
      ],
      "metadata": {
        "id": "IG5wYfy-OwyV"
      },
      "execution_count": null,
      "outputs": []
    },
    {
      "cell_type": "code",
      "source": [
        "# changing data type\n",
        "df[\"movie_id\"] = df[\"movie_id\"].astype(int)\n",
        "df[\"Cust_Id\"] = df[\"Cust_Id\"].astype(int)\n",
        "df.info()"
      ],
      "metadata": {
        "id": "FloBPYgAajru"
      },
      "execution_count": null,
      "outputs": []
    },
    {
      "cell_type": "code",
      "source": [
        "# now we can find the number of customers and average rating for each movie using groupby on movie_id\n",
        "movie_rating_summary = df.groupby(\"movie_id\")['Rating'].agg(['count', 'mean'])\n",
        "movie_rating_summary\n",
        "# the avg rating for movie 1 is 3.74 and rated by 547 customers\n",
        "# similary movie 2 is rated by 145 customers and 3.55 ratings\n",
        "# and so on.."
      ],
      "metadata": {
        "id": "OKsZQHK4clCI"
      },
      "execution_count": null,
      "outputs": []
    },
    {
      "cell_type": "code",
      "source": [
        "movie_rating_summary.index=movie_rating_summary.index.map(int)"
      ],
      "metadata": {
        "id": "Gi1Pbvtegj2l"
      },
      "execution_count": null,
      "outputs": []
    },
    {
      "cell_type": "code",
      "source": [
        "# we can also see the count of star rating given for different movie\n",
        "# movie 1 is rated for 5 star by 145 customers \n",
        "df.groupby([\"movie_id\", 'Rating']).agg(['count'])\n"
      ],
      "metadata": {
        "id": "6-KSAmkhdW2X"
      },
      "execution_count": null,
      "outputs": []
    },
    {
      "cell_type": "code",
      "source": [
        "# let's calculate the 70% quantile value for the count column of movie_rating_summary dataframe\n",
        "# benchmark is number of customers who has watched movie more than 70% of the time\n",
        "benchmark = round(movie_rating_summary[\"count\"].quantile(0.7),0)\n",
        "benchmark\n"
      ],
      "metadata": {
        "id": "iPsx_cCVeODU"
      },
      "execution_count": null,
      "outputs": []
    },
    {
      "cell_type": "code",
      "source": [
        "# now we select those movies for which count is greater than benchmark for the movie to qualify to consider for recommendation\n",
        "# the becnhmark criteria helps us in filtering those movies which are watched more, i.e. more popular\n",
        "movie_rating_summary[movie_rating_summary[\"count\"] > 1799]\n",
        "# total 1348 movies qualifies, and we will build recommendation system for these movies only"
      ],
      "metadata": {
        "id": "_WpWiHH8fUyj"
      },
      "execution_count": null,
      "outputs": []
    },
    {
      "cell_type": "code",
      "source": [
        "# we are selecting those movies  which do not satisfy the benchmark critera\n",
        "dropped_movies = movie_rating_summary[movie_rating_summary[\"count\"] < benchmark].index\n",
        "dropped_movies"
      ],
      "metadata": {
        "id": "MVG3t7EgfecN"
      },
      "execution_count": null,
      "outputs": []
    },
    {
      "cell_type": "code",
      "source": [
        "cust_rating_summary = df.groupby(\"Cust_Id\")[[\"Rating\"]].agg(\"count\")\n",
        "cust_rating_summary # index is Cust_Id here"
      ],
      "metadata": {
        "id": "npETUFbNi2uj"
      },
      "execution_count": null,
      "outputs": []
    },
    {
      "cell_type": "code",
      "source": [
        "# similarly, we will set the benchmark criteria for customers who has voted 70% of the time\n",
        "cust_benchmark = round(cust_rating_summary[\"Rating\"].quantile(0.7),0)\n",
        "cust_benchmark"
      ],
      "metadata": {
        "id": "I0Ad5vQgiQbF"
      },
      "execution_count": null,
      "outputs": []
    },
    {
      "cell_type": "code",
      "source": [
        "# we will consider only those customers who has given rating atleast 52 times\n",
        "dropped_customers = cust_rating_summary[cust_rating_summary[\"Rating\"] < 52.0].index\n",
        "dropped_customers\n"
      ],
      "metadata": {
        "id": "YSgN_2NRjXKu"
      },
      "execution_count": null,
      "outputs": []
    },
    {
      "cell_type": "code",
      "source": [
        "# now we will remove those entries from df which contains any movieid in dropped_movies and any customers in dropped_customers\n",
        "df = df[~df[\"movie_id\"].isin(dropped_movies)]\n",
        "df = df[~df[\"Cust_Id\"].isin(dropped_customers)]\n",
        "print('After the triming, the shape is: {}'.format(df.shape))"
      ],
      "metadata": {
        "id": "u2IxVR4cjw7i"
      },
      "execution_count": null,
      "outputs": []
    },
    {
      "cell_type": "code",
      "source": [
        "df.head()"
      ],
      "metadata": {
        "id": "2soLw0TGkTdj"
      },
      "execution_count": null,
      "outputs": []
    },
    {
      "cell_type": "code",
      "source": [
        "df_p = pd.pivot(df, values = 'Rating', index = 'Cust_Id', columns = 'movie_id')\n",
        "df_p.shape"
      ],
      "metadata": {
        "id": "EW_UtOZbkoRt"
      },
      "execution_count": null,
      "outputs": []
    },
    {
      "cell_type": "code",
      "source": [
        "df_p.head()"
      ],
      "metadata": {
        "id": "HsdCg1B6kqo4"
      },
      "execution_count": null,
      "outputs": []
    },
    {
      "cell_type": "code",
      "source": [
        "# load movie titles\n",
        "movie_titles = pd.read_csv(\"/content/drive/MyDrive/netflix/movie_titles.csv\",\n",
        "                           encoding =\"ISO-8859-1\",on_bad_lines='skip', names=['movie_id','year','title'], header = None)\n",
        "movie_titles.head()"
      ],
      "metadata": {
        "id": "QF7PxK03llIv"
      },
      "execution_count": null,
      "outputs": []
    },
    {
      "cell_type": "code",
      "source": [
        "# selecting the movie_id as index\n",
        "movie_titles.set_index(\"movie_id\", inplace = True)"
      ],
      "metadata": {
        "id": "EDytJK7JmW6u"
      },
      "execution_count": null,
      "outputs": []
    },
    {
      "cell_type": "code",
      "source": [
        "movie_titles.head()"
      ],
      "metadata": {
        "id": "mysED8bLmGPG"
      },
      "execution_count": null,
      "outputs": []
    },
    {
      "cell_type": "code",
      "source": [
        "!pip install scikit-surprise"
      ],
      "metadata": {
        "id": "mFMK8eSvmg8d"
      },
      "execution_count": null,
      "outputs": []
    },
    {
      "cell_type": "code",
      "source": [
        "import math\n",
        "import re\n",
        "from scipy.sparse import csr_matrix\n",
        "import seaborn as sns\n",
        "from surprise import Dataset, Reader, SVD\n",
        "from surprise.model_selection import cross_validate"
      ],
      "metadata": {
        "id": "haPMR9GxmvA8"
      },
      "execution_count": null,
      "outputs": []
    },
    {
      "cell_type": "code",
      "source": [
        "# reader\n",
        "reader = Reader()"
      ],
      "metadata": {
        "id": "Ckf3yhK6nh_J"
      },
      "execution_count": null,
      "outputs": []
    },
    {
      "cell_type": "code",
      "source": [
        "# load dataframe into Dataset Object\n",
        "data = Dataset.load_from_df(df[['Cust_Id','movie_id','Rating']][:100000], reader)\n",
        "\n"
      ],
      "metadata": {
        "id": "WC0_sFpjnq0c"
      },
      "execution_count": null,
      "outputs": []
    },
    {
      "cell_type": "code",
      "source": [
        "svd = SVD()\n",
        "cross_validate(svd,data, measures=['RMSE','MAE'], verbose = True, cv=3 )"
      ],
      "metadata": {
        "id": "sYB5yJo5n_Q5"
      },
      "execution_count": null,
      "outputs": []
    },
    {
      "cell_type": "code",
      "source": [
        "trainset=data.build_full_trainset()\n"
      ],
      "metadata": {
        "id": "omwg9fAjxzQ2"
      },
      "execution_count": null,
      "outputs": []
    },
    {
      "cell_type": "code",
      "source": [
        "\n",
        "svd.fit(trainset)"
      ],
      "metadata": {
        "id": "g-QanhN7p0n1"
      },
      "execution_count": null,
      "outputs": []
    },
    {
      "cell_type": "code",
      "source": [
        "# recommend movies for customer id 712664\n",
        "df_712664 = df[(df['Cust_Id'] == 712664) & (df['Rating'] == 5)]\n",
        "df_712664.set_index('movie_id', inplace = True)\n",
        "df_712664.head()"
      ],
      "metadata": {
        "id": "QvriSATzp0q6"
      },
      "execution_count": null,
      "outputs": []
    },
    {
      "cell_type": "code",
      "source": [
        "# we will join df_712664 with movie_titles df on movie_id which is the index column in both df\n",
        "df_712664 = df_712664.join(movie_titles)[['title','Rating']]\n",
        "df_712664"
      ],
      "metadata": {
        "id": "1xuXwwLrp0uT"
      },
      "execution_count": null,
      "outputs": []
    },
    {
      "cell_type": "code",
      "source": [
        "user_712664 = movie_titles.copy()\n",
        "user_712664.reset_index(inplace = True)\n",
        "user_712664\n"
      ],
      "metadata": {
        "id": "9d9dc4VavLsI"
      },
      "execution_count": null,
      "outputs": []
    },
    {
      "cell_type": "code",
      "source": [
        "# we will drop the movie that do not satify the benchmark criteria\n",
        "user_712664 = user_712664[~(user_712664['movie_id'].isin(dropped_movies))]\n",
        "user_712664"
      ],
      "metadata": {
        "id": "u4fGu3Tlvjx6"
      },
      "execution_count": null,
      "outputs": []
    },
    {
      "cell_type": "code",
      "source": [
        "user_712664['estimate_score'] = user_712664['movie_id'].apply(lambda x: svd.predict(712664, x).est)\n",
        "user_712664"
      ],
      "metadata": {
        "id": "EMRGZxPiwMv4"
      },
      "execution_count": null,
      "outputs": []
    },
    {
      "cell_type": "code",
      "source": [
        "user_712664 = user_712664.sort_values('estimate_score', ascending = False)\n",
        "user_712664"
      ],
      "metadata": {
        "id": "HlM0MBPNwoam"
      },
      "execution_count": null,
      "outputs": []
    },
    {
      "cell_type": "code",
      "source": [
        "# top 10movies recommended bys sytem for user 712664\n",
        "user_712664.sort_values('movie_id').head(10)"
      ],
      "metadata": {
        "id": "kJkZd48lxAaq"
      },
      "execution_count": null,
      "outputs": []
    },
    {
      "cell_type": "code",
      "source": [
        "df_712664.reset_index(inplace = True)"
      ],
      "metadata": {
        "id": "Cfajj4KN0Wro"
      },
      "execution_count": null,
      "outputs": []
    },
    {
      "cell_type": "code",
      "source": [
        "\n",
        "user_712664[user_712664['movie_id'].isin(df_712664['movie_id'])].sort_values('movie_id')"
      ],
      "metadata": {
        "id": "iOAqboynxWoR"
      },
      "execution_count": null,
      "outputs": []
    },
    {
      "cell_type": "code",
      "source": [
        "df_712664['movie_id']"
      ],
      "metadata": {
        "id": "dVrGBeGF0ViO"
      },
      "execution_count": null,
      "outputs": []
    },
    {
      "cell_type": "code",
      "source": [],
      "metadata": {
        "id": "LgBtjP5CzPeP"
      },
      "execution_count": null,
      "outputs": []
    }
  ],
  "metadata": {
    "colab": {
      "private_outputs": true,
      "provenance": [],
      "mount_file_id": "1QIueGYdg3yFpLo7qSjewCWthkmDkrmEI",
      "authorship_tag": "ABX9TyOcQdQYlQnLSDOEONgcHrgy",
      "include_colab_link": true
    },
    "kernelspec": {
      "display_name": "Python 3",
      "name": "python3"
    },
    "language_info": {
      "name": "python"
    },
    "accelerator": "GPU",
    "gpuClass": "standard"
  },
  "nbformat": 4,
  "nbformat_minor": 0
}